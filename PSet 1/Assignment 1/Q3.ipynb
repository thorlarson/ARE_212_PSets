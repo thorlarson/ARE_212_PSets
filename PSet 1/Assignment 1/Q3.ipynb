{
 "cells": [
  {
   "cell_type": "code",
   "execution_count": 4,
   "id": "71e93b6d",
   "metadata": {},
   "outputs": [],
   "source": [
    "from scipy.stats import distributions as iid\n",
    "\n",
    "x = iid.norm()\n",
    "Omega = (-1,0,1)\n",
    "Pr = (1/3.,1/2.,1/6.)\n",
    "\n",
    "s = iid.rv_discrete(values=(Omega,Pr))"
   ]
  },
  {
   "cell_type": "code",
   "execution_count": 24,
   "id": "19333485",
   "metadata": {},
   "outputs": [
    {
     "data": {
      "text/plain": [
       "0.1111111111111111"
      ]
     },
     "execution_count": 24,
     "metadata": {},
     "output_type": "execute_result"
    }
   ],
   "source": [
    "# Code to convolve a random variable with a pmf and another having a cdf\n",
    "# Exploits =scipy.stats= base rv_continuous class.\n",
    "\n",
    "class ConvolvedDiscreteAndDiscrete(iid.rv_continuous):\n",
    "\n",
    "    \"\"\"Convolve (add) two discrete rv s and t,\n",
    "       returning the resulting pmf.\"\"\"\n",
    "\n",
    "    def __init__(self,s,t):\n",
    "        self.discrete_rv_1 = s\n",
    "        self.discrete_rv_2 = t\n",
    "        super(ConvolvedDiscreteAndDiscrete, self).__init__(name=\"ConvolvedDiscreteAndDiscrete\")\n",
    "        \n",
    "    def _cdf(self,z):\n",
    "        F=0\n",
    "        Fs = []\n",
    "        s = self.discrete_rv_1\n",
    "        t = self.discrete_rv_2\n",
    "        \n",
    "        for k in range(len(s.xk)):\n",
    "            F = F + t.cdf(z-s.xk[k])*s.pk[k]\n",
    "            Fs = Fs.append(F)\n",
    "        return (F, Fs)\n",
    "\n",
    "    def _pdf(self,z):\n",
    "        f = 0\n",
    "        s = self.discrete_rv_1\n",
    "        t = self.discrete_rv_2\n",
    "        for k in range(len(s.xk)):\n",
    "            f = f + t.pmf(z-s.xk[k])*s.pk[k]\n",
    "        return f\n",
    "\n",
    "y = ConvolvedDiscreteAndDiscrete(s,s)\n",
    "y.pdf(-2)"
   ]
  },
  {
   "cell_type": "code",
   "execution_count": 28,
   "id": "0a9af670",
   "metadata": {},
   "outputs": [
    {
     "ename": "TypeError",
     "evalue": "unsupported operand type(s) for *: 'method' and 'method'",
     "output_type": "error",
     "traceback": [
      "\u001b[0;31m---------------------------------------------------------------------------\u001b[0m",
      "\u001b[0;31mTypeError\u001b[0m                                 Traceback (most recent call last)",
      "Cell \u001b[0;32mIn[28], line 31\u001b[0m\n\u001b[1;32m     28\u001b[0m         f \u001b[38;5;241m=\u001b[39m \u001b[38;5;28mself\u001b[39m\u001b[38;5;241m.\u001b[39mpdf(z)\n\u001b[1;32m     29\u001b[0m         \u001b[38;5;28;01mreturn\u001b[39;00m f\n\u001b[0;32m---> 31\u001b[0m y \u001b[38;5;241m=\u001b[39m \u001b[43mConvolvedContinuousAndContinuous\u001b[49m\u001b[43m(\u001b[49m\u001b[43mx\u001b[49m\u001b[43m,\u001b[49m\u001b[43mx\u001b[49m\u001b[43m)\u001b[49m\n\u001b[1;32m     32\u001b[0m y\u001b[38;5;241m.\u001b[39mpdf(\u001b[38;5;241m-\u001b[39m\u001b[38;5;241m2\u001b[39m)\n",
      "Cell \u001b[0;32mIn[28], line 15\u001b[0m, in \u001b[0;36mConvolvedContinuousAndContinuous.__init__\u001b[0;34m(self, x, y)\u001b[0m\n\u001b[1;32m     13\u001b[0m \u001b[38;5;28mself\u001b[39m\u001b[38;5;241m.\u001b[39mcontinuous_rv_1 \u001b[38;5;241m=\u001b[39m x\n\u001b[1;32m     14\u001b[0m \u001b[38;5;28mself\u001b[39m\u001b[38;5;241m.\u001b[39mcontinuous_rv_2 \u001b[38;5;241m=\u001b[39m y\n\u001b[0;32m---> 15\u001b[0m \u001b[38;5;28mself\u001b[39m\u001b[38;5;241m.\u001b[39mpdf \u001b[38;5;241m=\u001b[39m \u001b[43msignal\u001b[49m\u001b[38;5;241;43m.\u001b[39;49m\u001b[43mfftconvolve\u001b[49m\u001b[43m(\u001b[49m\u001b[43mx\u001b[49m\u001b[38;5;241;43m.\u001b[39;49m\u001b[43mpdf\u001b[49m\u001b[43m,\u001b[49m\u001b[43my\u001b[49m\u001b[38;5;241;43m.\u001b[39;49m\u001b[43mpdf\u001b[49m\u001b[43m,\u001b[49m\u001b[38;5;124;43m'\u001b[39;49m\u001b[38;5;124;43mfull\u001b[39;49m\u001b[38;5;124;43m'\u001b[39;49m\u001b[43m)\u001b[49m\n\u001b[1;32m     16\u001b[0m \u001b[38;5;28msuper\u001b[39m(ConvolvedContinuousAndContinuous, \u001b[38;5;28mself\u001b[39m)\u001b[38;5;241m.\u001b[39m\u001b[38;5;21m__init__\u001b[39m(name\u001b[38;5;241m=\u001b[39m\u001b[38;5;124m\"\u001b[39m\u001b[38;5;124mConvolvedContinuousAndContinuous\u001b[39m\u001b[38;5;124m\"\u001b[39m)\n",
      "File \u001b[0;32m/opt/conda/lib/python3.9/site-packages/scipy/signal/signaltools.py:651\u001b[0m, in \u001b[0;36mfftconvolve\u001b[0;34m(in1, in2, mode, axes)\u001b[0m\n\u001b[1;32m    648\u001b[0m in2 \u001b[38;5;241m=\u001b[39m np\u001b[38;5;241m.\u001b[39masarray(in2)\n\u001b[1;32m    650\u001b[0m \u001b[38;5;28;01mif\u001b[39;00m in1\u001b[38;5;241m.\u001b[39mndim \u001b[38;5;241m==\u001b[39m in2\u001b[38;5;241m.\u001b[39mndim \u001b[38;5;241m==\u001b[39m \u001b[38;5;241m0\u001b[39m:  \u001b[38;5;66;03m# scalar inputs\u001b[39;00m\n\u001b[0;32m--> 651\u001b[0m     \u001b[38;5;28;01mreturn\u001b[39;00m \u001b[43min1\u001b[49m\u001b[43m \u001b[49m\u001b[38;5;241;43m*\u001b[39;49m\u001b[43m \u001b[49m\u001b[43min2\u001b[49m\n\u001b[1;32m    652\u001b[0m \u001b[38;5;28;01melif\u001b[39;00m in1\u001b[38;5;241m.\u001b[39mndim \u001b[38;5;241m!=\u001b[39m in2\u001b[38;5;241m.\u001b[39mndim:\n\u001b[1;32m    653\u001b[0m     \u001b[38;5;28;01mraise\u001b[39;00m \u001b[38;5;167;01mValueError\u001b[39;00m(\u001b[38;5;124m\"\u001b[39m\u001b[38;5;124min1 and in2 should have the same dimensionality\u001b[39m\u001b[38;5;124m\"\u001b[39m)\n",
      "\u001b[0;31mTypeError\u001b[0m: unsupported operand type(s) for *: 'method' and 'method'"
     ]
    }
   ],
   "source": [
    "from scipy.stats import distributions as iid\n",
    "from scipy import signal\n",
    "\n",
    "# Code to convolve a random variable with a pmf and another having a cdf\n",
    "# Exploits =scipy.stats= base rv_continuous class.\n",
    "\n",
    "class ConvolvedContinuousAndContinuous(iid.rv_continuous):\n",
    "\n",
    "    \"\"\"Convolve (add) two continuous rvs x and y,\n",
    "       returning the resulting cdf.\"\"\"\n",
    "\n",
    "    def __init__(self,x,y):\n",
    "        self.continuous_rv_1 = x\n",
    "        self.continuous_rv_2 = y\n",
    "        self.pdf = signal.fftconvolve(x.pdf,y.pdf,'full')\n",
    "        super(ConvolvedContinuousAndContinuous, self).__init__(name=\"ConvolvedContinuousAndContinuous\")\n",
    "        \n",
    "    def _cdf(self,z):\n",
    "        F=0\n",
    "        x = self.continuous_rv_1\n",
    "        y = selfcontinuous_rv_2\n",
    "        \n",
    "        for k in range(len(s.xk)):\n",
    "            F = F + x.cdf(z-s.xk[k])*s.pk[k]\n",
    "        return F\n",
    "\n",
    "    def _pdf(self,z):\n",
    "        f = self.pdf(z)\n",
    "        return f\n",
    "    \n",
    "y = ConvolvedContinuousAndContinuous(x,x)\n",
    "y.pdf(-2)\n"
   ]
  },
  {
   "cell_type": "code",
   "execution_count": 9,
   "id": "4ff6f367",
   "metadata": {},
   "outputs": [
    {
     "ename": "SyntaxError",
     "evalue": "invalid syntax (927355991.py, line 1)",
     "output_type": "error",
     "traceback": [
      "\u001b[0;36m  Cell \u001b[0;32mIn[9], line 1\u001b[0;36m\u001b[0m\n\u001b[0;31m    y.\u001b[0m\n\u001b[0m      ^\u001b[0m\n\u001b[0;31mSyntaxError\u001b[0m\u001b[0;31m:\u001b[0m invalid syntax\n"
     ]
    }
   ],
   "source": [
    "y."
   ]
  },
  {
   "cell_type": "code",
   "execution_count": null,
   "id": "483a41d2",
   "metadata": {},
   "outputs": [],
   "source": []
  },
  {
   "cell_type": "code",
   "execution_count": null,
   "id": "059780c1",
   "metadata": {},
   "outputs": [],
   "source": []
  }
 ],
 "metadata": {
  "kernelspec": {
   "display_name": "Python 3 (ipykernel)",
   "language": "python",
   "name": "python3"
  },
  "language_info": {
   "codemirror_mode": {
    "name": "ipython",
    "version": 3
   },
   "file_extension": ".py",
   "mimetype": "text/x-python",
   "name": "python",
   "nbconvert_exporter": "python",
   "pygments_lexer": "ipython3",
   "version": "3.9.15"
  }
 },
 "nbformat": 4,
 "nbformat_minor": 5
}
